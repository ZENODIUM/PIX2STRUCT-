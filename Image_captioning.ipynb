{
 "cells": [
  {
   "cell_type": "code",
   "execution_count": 1,
   "id": "532481bd",
   "metadata": {},
   "outputs": [
    {
     "name": "stdout",
     "output_type": "stream",
     "text": [
      "A paper that says Not Raining Jobs.\n",
      "A picture of a computer screen that says Not Raining Jobs.\n"
     ]
    }
   ],
   "source": [
    "from PIL import Image\n",
    "import requests\n",
    "from transformers import AutoProcessor, Pix2StructForConditionalGeneration\n",
    "\n",
    "processor = AutoProcessor.from_pretrained(\"google/pix2struct-textcaps-base\")\n",
    "model = Pix2StructForConditionalGeneration.from_pretrained(\"google/pix2struct-textcaps-base\")\n",
    "\n",
    "url = \"https://media.discordapp.net/attachments/1093371009006051391/1148295555353677885/WhatsApp_Image_2023-09-04_at_22.06.20.jpg\"\n",
    "image = Image.open(requests.get(url, stream=True).raw)\n",
    "#image = Image.open((url, stream=True).raw)\n",
    "#image = \"lion.jpeg\"\n",
    "\n",
    "inputs = processor(images=image, return_tensors=\"pt\")\n",
    "\n",
    "# autoregressive generation\n",
    "generated_ids = model.generate(**inputs, max_new_tokens=50)\n",
    "generated_text = processor.batch_decode(generated_ids, skip_special_tokens=True)[0]\n",
    "print(generated_text)\n",
    "\n",
    "# conditional generation\n",
    "text = \"A picture of\"\n",
    "inputs = processor(text=text, images=image, return_tensors=\"pt\", add_special_tokens=False)\n",
    "\n",
    "generated_ids = model.generate(**inputs, max_new_tokens=50)\n",
    "generated_text = processor.batch_decode(generated_ids, skip_special_tokens=True)[0]\n",
    "print(generated_text)"
   ]
  },
  {
   "cell_type": "code",
   "execution_count": null,
   "id": "dc8b4829",
   "metadata": {},
   "outputs": [],
   "source": []
  }
 ],
 "metadata": {
  "kernelspec": {
   "display_name": "Python 3 (ipykernel)",
   "language": "python",
   "name": "python3"
  },
  "language_info": {
   "codemirror_mode": {
    "name": "ipython",
    "version": 3
   },
   "file_extension": ".py",
   "mimetype": "text/x-python",
   "name": "python",
   "nbconvert_exporter": "python",
   "pygments_lexer": "ipython3",
   "version": "3.9.7"
  }
 },
 "nbformat": 4,
 "nbformat_minor": 5
}
