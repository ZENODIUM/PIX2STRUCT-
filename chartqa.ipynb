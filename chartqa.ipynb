{
 "cells": [
  {
   "cell_type": "code",
   "execution_count": 1,
   "id": "5719488a",
   "metadata": {},
   "outputs": [],
   "source": [
    "import requests\n",
    "from PIL import Image\n",
    "from transformers import Pix2StructForConditionalGeneration, Pix2StructProcessor\n"
   ]
  },
  {
   "cell_type": "code",
   "execution_count": 2,
   "id": "d3de37c2",
   "metadata": {},
   "outputs": [],
   "source": [
    "model = Pix2StructForConditionalGeneration.from_pretrained(\"google/pix2struct-chartqa-base\")\n",
    "processor = Pix2StructProcessor.from_pretrained(\"google/pix2struct-chartqa-base\")"
   ]
  },
  {
   "cell_type": "code",
   "execution_count": 3,
   "id": "b1f5076f",
   "metadata": {},
   "outputs": [],
   "source": [
    "\n",
    "image_url = \"https://cdn1.byjus.com/wp-content/uploads/2021/11/Pie-Chart-3.png\"\n",
    "image = Image.open(requests.get(image_url, stream=True).raw)"
   ]
  },
  {
   "cell_type": "code",
   "execution_count": 4,
   "id": "58089684",
   "metadata": {},
   "outputs": [],
   "source": [
    "question = \"Which subject is the highest?\""
   ]
  },
  {
   "cell_type": "code",
   "execution_count": 5,
   "id": "f2e53856",
   "metadata": {},
   "outputs": [],
   "source": [
    "inputs = processor(images=image, text=question, return_tensors=\"pt\") "
   ]
  },
  {
   "cell_type": "code",
   "execution_count": 6,
   "id": "bcb38457",
   "metadata": {
    "scrolled": false
   },
   "outputs": [
    {
     "name": "stderr",
     "output_type": "stream",
     "text": [
      "C:\\Users\\User\\anaconda3\\lib\\site-packages\\transformers\\generation\\utils.py:1260: UserWarning: Using the model-agnostic default `max_length` (=20) to control thegeneration length. We recommend setting `max_new_tokens` to control the maximum length of the generation.\n",
      "  warnings.warn(\n"
     ]
    },
    {
     "name": "stdout",
     "output_type": "stream",
     "text": [
      "Mathematics\n"
     ]
    }
   ],
   "source": [
    "predictions = model.generate(**inputs)\n",
    "print(processor.decode(predictions[0], skip_special_tokens=True))"
   ]
  },
  {
   "cell_type": "code",
   "execution_count": 11,
   "id": "7ef09ef5",
   "metadata": {},
   "outputs": [],
   "source": [
    "image_url2 = \"https://media.geeksforgeeks.org/wp-content/uploads/20230705112209/Simple-Bar-Diagram-copy-2.webp\"\n",
    "image = Image.open(requests.get(image_url2, stream=True).raw)"
   ]
  },
  {
   "cell_type": "code",
   "execution_count": 15,
   "id": "711a3a7c",
   "metadata": {},
   "outputs": [],
   "source": [
    "question2 = \"How many employees had 45% Savings?\""
   ]
  },
  {
   "cell_type": "code",
   "execution_count": 16,
   "id": "6cc4e1ae",
   "metadata": {},
   "outputs": [],
   "source": [
    "inputs = processor(images=image, text=question2, return_tensors=\"pt\")"
   ]
  },
  {
   "cell_type": "code",
   "execution_count": 17,
   "id": "1961f4ab",
   "metadata": {},
   "outputs": [
    {
     "name": "stdout",
     "output_type": "stream",
     "text": [
      "10\n"
     ]
    }
   ],
   "source": [
    "predictions = model.generate(**inputs)\n",
    "print(processor.decode(predictions[0], skip_special_tokens=True))"
   ]
  },
  {
   "cell_type": "code",
   "execution_count": null,
   "id": "1ed0e8f4",
   "metadata": {},
   "outputs": [],
   "source": []
  }
 ],
 "metadata": {
  "kernelspec": {
   "display_name": "Python 3 (ipykernel)",
   "language": "python",
   "name": "python3"
  },
  "language_info": {
   "codemirror_mode": {
    "name": "ipython",
    "version": 3
   },
   "file_extension": ".py",
   "mimetype": "text/x-python",
   "name": "python",
   "nbconvert_exporter": "python",
   "pygments_lexer": "ipython3",
   "version": "3.9.7"
  }
 },
 "nbformat": 4,
 "nbformat_minor": 5
}
